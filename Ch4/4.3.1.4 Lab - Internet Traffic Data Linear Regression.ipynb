{
 "cells": [
  {
   "cell_type": "markdown",
   "metadata": {},
   "source": [
    "![Title](Images/cisco.png)"
   ]
  },
  {
   "cell_type": "markdown",
   "metadata": {},
   "source": [
    "## Internet Traffic Data Linear Regression \n",
    "\n",
    "### Objectives\n",
    "In this lab, you will become familiar with the concepts of regression and prediction and the concept of working with data.\n",
    "<li>**Part 1: Import the Libraries  **</li>\n",
    "<li>**Part 2: Visualize the Historical Data **</li>\n",
    "<li>**Part 3: Create a Simple Linear Regression Model: First Order Polynomial **</li>\n",
    "<li>**Part 4: Create a Linear Regression Model: Higher Order Polynomials **</li>\n",
    "<li>**Part 5: Calculate the Errors**</li>\n",
    "<li>**Part 6: Create a Non-Linear Regression Model: Exponential Growth **</li>\n",
    "<li>**Part 7: Compare the Models**</li>\n",
    "### Scenario / Background\n",
    "In this lab, you will learn how to use Python libraries to fit regression models to data.\n",
    "In particular, you will look at historical data about the growth of global Internet traffic, and use this data to predict its volume in the year 2020.\n",
    "### Required Resources\n",
    "* 1 PC with Internet access\n",
    "* Python libraries: `pandas`, `numpy`, `sqlite3`, `matplotlib`, `folium_utils`\n",
    "* Datafiles: Internet_traffic_hist.csv, Internet_traffic_proj.csv"
   ]
  },
  {
   "cell_type": "markdown",
   "metadata": {},
   "source": [
    "## Part 1:  Import the Libraries\n",
    "In this part, you will install and import all the libraries necessary to complete this lab.\n",
    "#### Step 1: Install the of scikit-learn library.\n",
    "Thi installation will take a few minutes."
   ]
  },
  {
   "cell_type": "code",
   "execution_count": null,
   "metadata": {
    "collapsed": true
   },
   "outputs": [],
   "source": [
    "# Code cell 1\n",
    "!pip install scikit-learn"
   ]
  },
  {
   "cell_type": "markdown",
   "metadata": {},
   "source": [
    "#### Step 2: Import the rest of  the libraries.\n",
    "- pandas\n",
    "- numpy\n",
    "- pyplot (and use the style fivethirtyeight, or another one if you prefer)"
   ]
  },
  {
   "cell_type": "code",
   "execution_count": null,
   "metadata": {
    "collapsed": true
   },
   "outputs": [],
   "source": [
    "# Code cell 2\n",
    "import pandas as pd\n",
    "import numpy as np\n",
    "import matplotlib.pyplot as plt\n",
    "plt.style.use('fivethirtyeight')\n",
    "%matplotlib inline"
   ]
  },
  {
   "cell_type": "markdown",
   "metadata": {},
   "source": [
    "`sklearn` is one of the most used Python libraries for Machine Learning. It implements a wide variety of methods, and offers functionalities for pre-processing, cross validation, etc. You can find documentation, tutorials, and more here: http://scikit-learn.org/stable/documentation.html"
   ]
  },
  {
   "cell_type": "code",
   "execution_count": null,
   "metadata": {
    "collapsed": true
   },
   "outputs": [],
   "source": [
    "# Code cell 3\n",
    "from sklearn.metrics import r2_score\n",
    "from scipy.optimize import curve_fit"
   ]
  },
  {
   "cell_type": "markdown",
   "metadata": {},
   "source": [
    "## Part 2: Visualize the Historical Data\n",
    "#### Step 1: Load  historical Internet traffic data.\n",
    "\n",
    "Load the dataset `internet_traffic_hist.csv`, into a `pandas` `DataFrame`, and visualize the first few rows."
   ]
  },
  {
   "cell_type": "code",
   "execution_count": null,
   "metadata": {
    "collapsed": true
   },
   "outputs": [],
   "source": [
    "# Code cell 4\n",
    "filename = './Data/internet_traffic_hist.csv'\n",
    "#df_hist = ... \n",
    "#df_hist.?(?)"
   ]
  },
  {
   "cell_type": "markdown",
   "metadata": {},
   "source": [
    "#### Step 2: Visualize the internet volume traffic.\n",
    "According to the  [Cisco VNI Forecast](http://www.cisco.com/c/en/us/solutions/collateral/service-provider/visual-networking-index-vni/complete-white-paper-c11-481360.html), consumer fixed Internet traffic will grow 22% per year from 2015 until 2020. For this lab, the assumption is that the growth rate was the same for the period 2005-2015. Under this assumption, the value of Internet traffic for 2005 is fixed to 100. The `DataFrame` `df_hist` contains the evolution of fixed Internet traffic volume until 2015 (plus or minus some year-by-year variation).\n",
    "\n",
    "Using the `matplotlib` functions learned so far, visualize the traffic volume evolution year by year."
   ]
  },
  {
   "cell_type": "code",
   "execution_count": null,
   "metadata": {
    "collapsed": true
   },
   "outputs": [],
   "source": [
    "# Code cell 5\n",
    "# Create a slightly bigger figure use all the available space\n",
    "plt.figure(figsize = (20,10))\n",
    "\n",
    "# XY Plot of year and traffic\n",
    "x = df_hist.year\n",
    "y = df_hist.traffic\n",
    "\n",
    "# XY Plot of year and traffic\n",
    "plt.plot(x, y, label =' ', linewidth = 7)\n",
    "plt.plot(x, y,'*k', markersize = 14, label = '')\n",
    "\n",
    "#Increase sligthly the axis sizes to make the plot more clear\n",
    "plt.axis([x.iloc[0]-1, x.iloc[-1]+1, y.iloc[0]*-0.1,  y.iloc[-1]*1.1])\n",
    "\n",
    "# Add axis labels\n",
    "plt.xlabel('Year')\n",
    "plt.ylabel('Fixed Internet Traffic Volume')\n",
    "\n",
    "# Increase default font size\n",
    "plt.rcParams.update({'font.size': 26})\n",
    "plt.show()"
   ]
  },
  {
   "cell_type": "markdown",
   "metadata": {},
   "source": [
    "## Part 3: Simple Linear Regression: First Order Polynomial\n",
    "\n",
    "For a Data Analyst, a regression task can be seen a two step decision process:\n",
    "\n",
    "- First, **choose the regression model** (or the family of models) to be used to capture the mathematical relationship between the observed variables,\n",
    "\n",
    "\n",
    "- Second, **fitting** the given model to the data, *i.e.* choosing a metric for evaluating the  *quality of fit* of a model, and computing the values of the parameters that maximize such a metric.\n",
    "\n",
    "The choice of the family of models to fit is the first fundamental step in regression.\n",
    "\n",
    "In the first step, the *tradeoff* is between a simpler model, whose parameters are easy to compute but might not satisfactorily fit the data, and a more complex one, which might obtain a higher quality of fit but requires more computations to estimate the optimal parameters.\n",
    "\n",
    "When the model family is decided, the second step also involves a *tradeoff*: the so called *bias-variance tradeoff*, which is determined by the choice of the evaluation metric.\n",
    "Skipping the mathematical details, the idea is that even for the chosen model, it is still possible to fine-tune the parameters to either increase the quality of fit inside the range of the observed data or to better generalize outside of it.\n",
    "\n",
    "In the rest of this lab, you will see examples of how the choices made in the first and the second step result in different solutions for these tradeoffs.\n",
    "The goal of regression analysis is to model a relationship between two quantitative variables. A general polynomial regression model is in the form of:\n",
    "\n",
    "$$ y = a_0 + a_1  x  + a_2  x ^ 2 +... + a_n  x ^ n $$\n",
    "\n",
    "where `n` is the order of power.\n",
    "\n",
    "To understand this regression model, we will start with the simple linear regression model where the variable n will be set to 1.\n",
    "\n",
    "The model becomes:\n",
    "\n",
    "$$ y = a_0 + a_1  x $$\n",
    " \n",
    "A linear model is a model whose parameters have a linear relationship with the variables.\n",
    "\n",
    "This model is in the same form as a linear equation:\n",
    "\n",
    "$$ y = m x + b $$\n",
    "\n",
    "where `m` is the slope of line and `b` is y-intercept.\n",
    "\n",
    "Given the regression model family, **the mean squared error** (or MSE) as a quality of fit metric. The idea is that we want our polynomial function to fit our data *as close as possible*.\n",
    "\n",
    "#### Step 1: Overlay a simple linear regression model over the Internet historical data.\n",
    "\n",
    "In Python, the function `polyfit` is used from the numpy library to fit a polynomial regression model of any order and find the parameters that minimize the MSE.\n",
    "\n",
    "For the first regression exercise, you will use the family of **polynomial models** with the order of 1, in which the internet traffic variable is $y$ and the year is $x$."
   ]
  },
  {
   "cell_type": "code",
   "execution_count": null,
   "metadata": {
    "collapsed": true
   },
   "outputs": [],
   "source": [
    "# Code cell 6\n",
    "# Create a slightly bigger figure use all the available space\n",
    "plt.figure(figsize = (20,10))\n",
    "\n",
    "order = 1\n",
    "\n",
    "# XY Plot of year and traffic\n",
    "x = df_hist.year\n",
    "y = df_hist.traffic\n",
    "\n",
    "m, b = np.polyfit(x,y,order)\n",
    "\n",
    "plt.plot(x, y, label = 'Historical Internet Traffic', linewidth = 7)\n",
    "plt.plot(x, y,'*k', markersize = 15, label ='')\n",
    "plt.plot(x, m*x + b, '-', label = 'Simple Linear Regression Line', linewidth = 6)\n",
    "\n",
    "print ('The slope of line is {}.'.format(m))\n",
    "print ('The y intercept is {}.'.format(b))\n",
    "print ('The best fit simple linear regression line is {}x + {}.'.format(m,b))\n",
    "\n",
    "\n",
    "#Increase sligthly the axis sizes to make the plot more clear\n",
    "plt.axis([x.iloc[0]-1, x.iloc[-1]+1, y.iloc[0]*-0.1, y.iloc[-1]*1.1])\n",
    "\n",
    "# Add axis labels\n",
    "plt.xlabel('Year')\n",
    "plt.ylabel('Fixed Internet Traffic Volume')\n",
    "plt.legend(loc = 'upper left')\n",
    "\n",
    "\n",
    "# Increase default font size\n",
    "plt.rcParams.update({'font.size': 26})\n",
    "plt.show()"
   ]
  },
  {
   "cell_type": "markdown",
   "metadata": {},
   "source": [
    "## Part 4: Linear Regression: Higher Order Polynomials\n",
    "The simple linear regression plot shows that the simple regression linear model is not a suitable model to project the Internet traffic in 2020. \n",
    "\n",
    "You will fit a second and third order polynomial regression model to the Internet historical traffic data and store the errors and the MSE for each model in a list. It will be used to compare regression models later in the lab.\n",
    "\n",
    "A formula for the second order:\n",
    "\n",
    "$$ y = a_0 + a_1  x  + a_2  x ^ 2  $$\n",
    "\n",
    "A formula for the third order:\n",
    "\n",
    "$$ y = a_0 + a_1  x  + a_2  x ^ 2 + a_3  x ^ 3 $$\n",
    "\n",
    "You will plot polynomial models with increasing order from 1 to 3 and observe the fit of the models. The polynomial with an order of 1 is already plotted in the previous part. "
   ]
  },
  {
   "cell_type": "code",
   "execution_count": null,
   "metadata": {
    "collapsed": true
   },
   "outputs": [],
   "source": [
    "# Code cell 7\n",
    "models = []       # to store polynomial model parameters (list of poly1d objects)\n",
    "errors_hist = []  # to store the absolute errors for each point (2005-2015) and for each model (list of numpy arrays )\n",
    "mse_hist = []     # to store the MSE for each model (list of numpy floats)\n",
    "\n",
    "#Try polynomial models with increasing order\n",
    "for order in range(1,4):\n",
    "    # Fit polynomial model\n",
    "    p = (np.poly1d(np.polyfit(x, y, order)))\n",
    "    models.append(p)\n",
    "    \n",
    "plt.figure(figsize = (20,10))\n",
    "\n",
    "# Visualize polynomial models fit\n",
    "for model in models[0:3]:\n",
    "    plt.plot(x, model(x), label = 'order ' + str(len(model)), linewidth = 7)\n",
    "\n",
    "plt.plot(x, y, '*k', markersize = 14, label = 'Historical Internet Traffic', linewidth = 7)\n",
    "plt.legend(loc = 'upper left')\n",
    "\n",
    "# Add axis labels\n",
    "plt.xlabel('Year')\n",
    "plt.ylabel('Fixed Internet Traffic Volume')\n",
    "\n",
    "plt.show()"
   ]
  },
  {
   "cell_type": "markdown",
   "metadata": {
    "collapsed": true
   },
   "source": [
    "## Part 5: Calculating the Errors\n",
    "Compare the errors and visualize the fit for the different regression models by errors.\n",
    "\n",
    "Given the regression model family, **the mean squared error** (or MSE) as a quality of fit metric. The idea is that we want our polynomial function to fit our data *as close as possible*."
   ]
  },
  {
   "cell_type": "code",
   "execution_count": null,
   "metadata": {
    "collapsed": true
   },
   "outputs": [],
   "source": [
    "# Code cell 8\n",
    "# Calculate and store the erros\n",
    "models = []       # to store polynomial model parameters (list of poly1d objects)\n",
    "errors_hist = []  # to store the absolute errors for each point (2005-2015) and for each model (list of numpy arrays )\n",
    "mse_hist = []     # to store the MSE for each model (list of numpy floats)\n",
    "\n",
    "#Try polynomial models with increasing order\n",
    "for order in range(1,4):\n",
    "    # Fit polynomial model\n",
    "    p = (np.poly1d(np.polyfit(x, y, order)))\n",
    "    models.append(p)\n",
    "    \n",
    "    e = np.abs(y-p(x))        # absolute error\n",
    "    mse = np.sum(e**2)/len(df_hist) # mse\n",
    "    \n",
    "    errors_hist.append(e)   #Store the absolute errors\n",
    "    mse_hist.append(mse) # Store the mse\n"
   ]
  },
  {
   "cell_type": "code",
   "execution_count": null,
   "metadata": {
    "collapsed": true
   },
   "outputs": [],
   "source": [
    "# Code cell 9\n",
    "# Visualize fit error for each year\n",
    "\n",
    "x = df_hist.year\n",
    "width = 0.2   #size of the bar\n",
    "\n",
    "fig = plt.figure(figsize=(20,10))\n",
    "ax = fig.add_subplot(111)\n",
    "\n",
    "p1 = ax.bar( x, errors_hist[0], width, color = 'b', label = 'Abs. error order 1 fit')\n",
    "p2 = ax.bar( x + width, errors_hist[1], width, color = 'r', label = 'Abs. error order 2 fit')\n",
    "p3 = ax.bar( x + 2*width, errors_hist[2], width, color = 'y', label = 'Abs. error order 3 fit')\n",
    "\n",
    "# \"Prettyfy\" the bar graph\n",
    "ax.set_xticks(x+2*width)\n",
    "ax.set_xticklabels(x)\n",
    "plt.legend(loc = 'upper left', fontsize =16)\n",
    "plt.show()\n",
    "\n",
    "#Visualise MSE for each model\n",
    "fig = plt.figure(figsize=(20,10))\n",
    "ax = fig.add_subplot(111)\n",
    "\n",
    "x = np.array([0,1,2,3])\n",
    "width = .6   #size of the bar\n",
    "\n",
    "p1 = ax.bar( x[0], mse_hist[0], width, color = 'b', label = 'pred. error order 1 fit')\n",
    "p2 = ax.bar( x[1], mse_hist[1], width, color = 'r', label = 'pred. error order 2 fit')\n",
    "p3 = ax.bar( x[2], mse_hist[2], width, color = 'y', label = 'pred. error order 3 fit')\n",
    "\n",
    "ax.set_xticks(x+width/2)\n",
    "ax.set_xticklabels(['Poly. order 1', 'Poly. order 2', 'Poly. order 3'], rotation=90)\n",
    "plt.show()"
   ]
  },
  {
   "cell_type": "markdown",
   "metadata": {},
   "source": [
    "From the plot above, it appears that the third polynomial order has the least amount of errors, and the error between the 2nd and 3rd orders is negligible. This suggests that the third polynomial is the best fit for the orders used in this lab at this time.\n",
    "\n",
    "To determine the parameters for this equation:\n",
    "\n",
    "$$ y = a_3 x ^ 3 + a_2  x ^ 2  + a_1  x  + a_0 $$\n",
    "\n",
    "the Python function `polyfit` from the `numpy` library can fit a polynomial regression model of any order and find the parameters that minimize the MSE. The order is set to 3 in the code cell below."
   ]
  },
  {
   "cell_type": "code",
   "execution_count": null,
   "metadata": {
    "collapsed": true
   },
   "outputs": [],
   "source": [
    "# Code cell 10\n",
    "# Polynomial function order\n",
    "order = 3\n",
    "\n",
    "x = df_hist.year.values      # regressor\n",
    "y = df_hist.traffic.values   # regressand\n",
    "\n",
    "# Fit the model, return the polynomial parameter values in a numpy array such that\n",
    "# y = p[0]*x**order + p[1]*x*(order-1) ...\n",
    "\n",
    "p_array = np.polyfit(x,y,order)\n",
    "\n",
    "print(type(p_array), p_array)\n",
    "\n",
    "# poly1d is a convenience class, used to encapsulate “natural” operations on polynomials \n",
    "# so that said operations may take on their customary form in code\n",
    "\n",
    "# wrap the p_array in a poly1 object\n",
    "p = np.poly1d(p_array)\n",
    "\n",
    "print(type(p), p)\n",
    "\n",
    "# use the poly1d object to evaluate the value of the polynomial in a specific point\n",
    "print('The value of the polynomial for x = 2020 is : {} '.format(p(2020)))\n",
    "\n",
    "# compute the absolute error for each value of x and the MSE error for the estimated polynomial model\n",
    "e = np.abs(y-p(x))\n",
    "mse = np.sum(e**2)/len(x)\n",
    "\n",
    "print('The estimated polynomial parameters are: {}'.format(p))\n",
    "print('The errors for each value of x, given the estimated polynomial parameters are: \\n {}'.format(e))\n",
    "print('The MSE is :{}'.format(mse))"
   ]
  },
  {
   "cell_type": "markdown",
   "metadata": {},
   "source": [
    "From the output for polynominal order of 3, the equation becomes:\n",
    "$$ y = 0.4831 x ^ 3 - 2905  x ^ 2  + 5.823 * 10^6  x  - 3.89 * 10^9 $$"
   ]
  },
  {
   "cell_type": "markdown",
   "metadata": {},
   "source": [
    "## Part 6: Non-Linear Regression Model: Exponential Growth\n",
    "\n",
    "In the case of the Internet traffic data, we know that the true underlying mathematical relathionship between traffic and the year is an exponential growth. We can therefore use that as a model, and estimate the best fitting parameters $a$ anf $r$. However, the exponential growth is a non-linear function. This makes the computation of the optimal parameters a much harder problem. It is not possible to minimize the MSE using a simple closed-form formula, but an iterative algorithm is necessary, which might not be able to converge to the optimal solution. Non-linear regression is a topic in itself. \n",
    "\n",
    "The VNI report states the expected annual growth rate. The mathematical formula that links the time and the traffic volume can therefore be defined as follows:\n",
    "\n",
    "$$ y = a * (1 + r)^n $$\n",
    "\n",
    "Where $a$ is the initial value of the traffic colume, which is the dependent variable (or *regressand*), $r$ is the **annual growth** rate (expressed as the increment ratio between the values for two consecutive years, *e.g*. 0.22), and $n$ is the **number of years** passed since $2015$, which is independent variable (or *regressor*).\n",
    "\n",
    "The formula highlights the fact that the relationship between the dependent and independent variable involves an exponentiation. For this reason, this formula is called **exponential growth**, and can be used to describe many phenomena in nature.\n",
    "\n",
    "For this lab, we're going to use the `scipy.optimize` library and his function `curvefit`. \n",
    "The function [`curvefit`](https://docs.scipy.org/doc/scipy/reference/generated/scipy.optimize.curve_fit.html)  requires to define a curve function, and then tries to find the best parameters for the specified function using the non-linear least squares algorithm. \n",
    "\n",
    "The details on this function and the underlying algorithm is beyond the scope of this course. However, you must be aware that fitting a non-linear regression model, is in general harder from a computational point of view, and that finding the parameters that maximize any quality of fit metric is *not guaranteed*. In fact, we will see that finding good parameters might depend on having a good initial guess. "
   ]
  },
  {
   "cell_type": "code",
   "execution_count": null,
   "metadata": {
    "collapsed": true
   },
   "outputs": [],
   "source": [
    "# Code cell 11\n",
    "# Non linear regression model fitting\n",
    "\n",
    "# First, define the regression model function, in this case, we'll choose an exponential of the form y= a*(b^(x))\n",
    "def my_exp_func(x, a, b):\n",
    "    return a * (b ** x) \n",
    "\n",
    "x = np.arange(2016-2005)    # the regressor is not the year in itself, but the number of years from 2005\n",
    "y = df_hist.traffic.values  # regressand\n",
    "\n",
    "# use curve_fit to find the exponential parameters vector p. cov expresses the confidence of the \n",
    "# algorithm on the estimated parameters \n",
    "p, cov = curve_fit(my_exp_func, x, y)\n",
    "e = np.abs(y - my_exp_func(x, *p))\n",
    "mse = np.sum(e**2)/len(df_hist)\n",
    "\n",
    "print('The estimated exponential parameters are: {}'.format(p))\n",
    "print('The errors for each value of x, given the estimated exponential parameters are: \\n {}'.format(e))\n",
    "print('The MSE is :{}'.format(mse))\n",
    "\n",
    "models.append(p)\n",
    "\n",
    "errors_hist.append(e) # Store the absolute error \n",
    "mse_hist.append(mse)"
   ]
  },
  {
   "cell_type": "markdown",
   "metadata": {},
   "source": [
    "The true growth rate $r$ for the Internet traffic data was 0.22 and the initial value $a$ was 100.\n",
    "The estimated values for these paramters are $103.38$ and $1.2467 -1 = 0.25$. The discrepancy between those values is due to the unpredictable yearly variations. The `curve_fit` function estimates are off by $13 \\%$ for $r$ and $3\\%$ for $a$. Not bad!  "
   ]
  },
  {
   "cell_type": "markdown",
   "metadata": {},
   "source": [
    "## Part 7: Comparing Models\n",
    "\n",
    "Compare the errors and visualize the fit for the different regression models."
   ]
  },
  {
   "cell_type": "code",
   "execution_count": null,
   "metadata": {
    "collapsed": true
   },
   "outputs": [],
   "source": [
    "# Code cell 12\n",
    "plt.figure(figsize = (20,10))\n",
    "\n",
    "# Visualize polynomial models fit\n",
    "for model in models[0:-1]:\n",
    "    \n",
    "    x = df_hist.year.values      \n",
    "    y = df_hist.traffic.values   \n",
    "    plt.plot(x, model(x), label = 'order ' + str(len(model)), linewidth = 7)\n",
    "\n",
    "# Visualize exponenetial model fit\n",
    "x = np.arange(2016-2005)    # the regressor is not the year in itself, but the number of years from 2005\n",
    "plt.plot(df_hist.year.values, my_exp_func(x, *models[-1]), label = 'Exp. non-linear regression', linewidth = 7)\n",
    "\n",
    "plt.plot(df_hist.year, df_hist.traffic, '*k', markersize = 14, label='Historical Internet Traffic')\n",
    "plt.legend(loc = 'upper left')\n",
    "\n",
    "# Add axis labels\n",
    "plt.xlabel('Year')\n",
    "plt.ylabel('Fixed Internet Traffic Volume')\n",
    "plt.show()\n"
   ]
  },
  {
   "cell_type": "markdown",
   "metadata": {},
   "source": [
    "For the selected range of year, the difference between a 2nd or 3rd order polynomial regression model and the exponential one is negligible. Let's visualize the actual errors."
   ]
  },
  {
   "cell_type": "code",
   "execution_count": null,
   "metadata": {
    "collapsed": true
   },
   "outputs": [],
   "source": [
    "# Code cell 13\n",
    "# Visualize fit error for each year\n",
    "\n",
    "x = df_hist.year\n",
    "width = 0.2   #size of the bar\n",
    "\n",
    "fig = plt.figure(figsize=(20,10))\n",
    "ax = fig.add_subplot(111)\n",
    "\n",
    "p1 = ax.bar( x, errors_hist[0], width, color = 'b', label = 'Abs. error order 1 fit')\n",
    "p2 = ax.bar( x + width, errors_hist[1], width, color = 'r', label = 'Abs. error order 2 fit')\n",
    "p3 = ax.bar( x + 2*width, errors_hist[2], width, color = 'y', label = 'Abs. error order 3 fit')\n",
    "p4 = ax.bar( x + 3*width, errors_hist[3], width, color = 'g', label = 'Abs. exponential fit')\n",
    "\n",
    "# \"Prettyfy\" the bar graph\n",
    "ax.set_xticks(x+2*width)\n",
    "ax.set_xticklabels(x)\n",
    "plt.legend(loc = 'upper left', fontsize =16)\n",
    "plt.show()\n",
    "\n",
    "#Visualise MSE for each model\n",
    "fig = plt.figure(figsize=(20,10))\n",
    "ax = fig.add_subplot(111)\n",
    "\n",
    "x = np.array([0,1,2,3])\n",
    "width = .6   #size of the bar\n",
    "\n",
    "p1 = ax.bar( x[0], mse_hist[0], width, color = 'b', label = 'pred. error order 1 fit')\n",
    "p2 = ax.bar( x[1], mse_hist[1], width, color = 'r', label = 'pred. error order 2 fit')\n",
    "p3 = ax.bar( x[2], mse_hist[2], width, color = 'y', label = 'pred. error order 3 fit')\n",
    "p4 = ax.bar( x[3], mse_hist[3], width, color = 'g', label = 'pred. exponential fit')\n",
    "\n",
    "ax.set_xticks(x+width/2)\n",
    "ax.set_xticklabels(['Poly. order 1', 'Poly. order 2', 'Poly. order 3', 'Exp. model' ], rotation=90)\n",
    "plt.show()"
   ]
  },
  {
   "cell_type": "markdown",
   "metadata": {},
   "source": [
    "From the last plot, it seems that a third order polynomial, while not being the *true* model, fits better the traffic measurements in the observed range. But how well will this model generalize outside of this range (*e.g.*, if we want to use this to make **predictions** about the future Internet traffic volume) ?"
   ]
  },
  {
   "cell_type": "markdown",
   "metadata": {},
   "source": [
    "## Part 8: Use Regression Model to Predict Future Values\n",
    "In this part, you will look at the projected values for the fixed Internet traffic volume. Assuming the same growth rate of the period 2005-2015, data is generated and stored in the dataset `internet_traffic_proj.csv`. Load its content in a `DataFrame` named `df_proj` and visualize the first few rows.\n",
    "#### Step 1: Load and visualize projected Internet traffic volume."
   ]
  },
  {
   "cell_type": "code",
   "execution_count": null,
   "metadata": {
    "collapsed": true
   },
   "outputs": [],
   "source": [
    "# Code cell 14\n",
    "# filename = 'internet_traffic_proj.csv'\n",
    "# df_proj = ...\n",
    "# df_proj.head()\n",
    "\n"
   ]
  },
  {
   "cell_type": "markdown",
   "metadata": {},
   "source": [
    "#### Step 2: Compare linear and nonlinear model prediction errors.\n",
    "\n",
    "Merge the `df_proj` and the `df_hist` `DataFrame`s, and visualize how the previously fitted regression model behaves in predicting future values."
   ]
  },
  {
   "cell_type": "code",
   "execution_count": null,
   "metadata": {
    "collapsed": true
   },
   "outputs": [],
   "source": [
    "# Code cell 15\n",
    "df = pd.concat([df_hist, df_proj]).reset_index()\n",
    "df.drop('index', axis=1, inplace=True)\n",
    "df = df.drop_duplicates() #The 2015 value is found in both the df_hist and df_proj df\n",
    "df.head(20)"
   ]
  },
  {
   "cell_type": "code",
   "execution_count": null,
   "metadata": {
    "collapsed": true
   },
   "outputs": [],
   "source": [
    "# Code cell 16\n",
    "plt.figure(figsize = (20,10))\n",
    "\n",
    "errors_all = []\n",
    "mse_all = []\n",
    "\n",
    "for model in models[0:-1]:\n",
    "    \n",
    "    # Visualize polynomial model fit\n",
    "    x = df.year.values      \n",
    "    y = df.traffic.values   \n",
    "    plt.plot(x, model(x), label = 'order ' + str(len(model)), linewidth = 7)\n",
    "    \n",
    "    # error and mse for polynomial models\n",
    "    pred_y = model(x)\n",
    "    e = np.abs(y - pred_y)\n",
    "    errors_all.append(e)   #Store the absolute errors\n",
    "    mse_all.append(np.sum(e**2)/len(df)) # Store the mse\n",
    "    \n",
    "    \n",
    "# Visualize exponential model fit\n",
    "x = np.arange(2021-2005)    # the regressor is not the year in itself, but the number of years from 2005\n",
    "pred_y = my_exp_func(x, *models[-1])\n",
    "plt.plot(df.year.values, pred_y, label = 'Exp. non-linear regression', linewidth = 7)\n",
    "\n",
    "# errors and mse for exponential model\n",
    "e = np.abs(y - pred_y)\n",
    "errors_all.append(e)   #Store the absolute errors\n",
    "mse_all.append(np.sum(e**2)/len(df)) # Store the mse\n",
    "\n",
    "plt.plot(df.year, df.traffic, '*k', markersize = 14, label='Projected Internet Traffic')\n",
    "plt.legend(loc = 'upper left')\n",
    "\n",
    "# Add axis labels\n",
    "plt.xlabel('Year')\n",
    "plt.ylabel('Fixed Internet Traffic Volume')\n",
    "plt.axis([2004,2021, -300, 3500])\n",
    "plt.show()"
   ]
  },
  {
   "cell_type": "markdown",
   "metadata": {},
   "source": [
    "What can you conclude about the 3rd order polynomial model and exponential model?"
   ]
  },
  {
   "cell_type": "markdown",
   "metadata": {},
   "source": []
  },
  {
   "cell_type": "markdown",
   "metadata": {},
   "source": [
    "<font size='0.5'>&copy; 2017 Cisco and/or its affiliates. All rights reserved. This document is Cisco Public.<font>"
   ]
  }
 ],
 "metadata": {
  "kernelspec": {
   "display_name": "Python 3",
   "language": "python",
   "name": "python3"
  },
  "language_info": {
   "codemirror_mode": {
    "name": "ipython",
    "version": 3
   },
   "file_extension": ".py",
   "mimetype": "text/x-python",
   "name": "python",
   "nbconvert_exporter": "python",
   "pygments_lexer": "ipython3",
   "version": "3.6.0"
  }
 },
 "nbformat": 4,
 "nbformat_minor": 1
}
