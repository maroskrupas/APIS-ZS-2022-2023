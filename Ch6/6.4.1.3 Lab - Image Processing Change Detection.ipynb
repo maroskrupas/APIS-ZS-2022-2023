{
 "cells": [
  {
   "cell_type": "markdown",
   "metadata": {},
   "source": [
    "![Title](Images/cisco.png)"
   ]
  },
  {
   "cell_type": "markdown",
   "metadata": {},
   "source": [
    "# Lab - Image Processing Change Detection\n",
    "\n",
    "### Objectives\n",
    "<p>\n",
    "<li>**Part 1: Learn About Computer Imaging**</li>\n",
    "<li>**Part 2: Capture Images**</li>\n",
    "<li>**Part 3: Change Detection**</li>\n",
    "<li>**Part 4: Explanation and Application**</li>\n",
    "\n",
    "### Scenario/Background\n",
    "Detecting moving objects in a scene is one of the most important tasks in computer vision. It is useful for video surveillance, for instance, but it is usually the basis for other, more complex tasks.\n",
    "\n",
    "Usually the way this task is performed is by building a model of an empty scene and comparing each newly captured frame to it. When the model of the empty scene is different from the current scene, it means that something in the image has changed. \n",
    "\n",
    "In this lab, we are going to use a video camera attached to the Raspberry Pi to capture videos and images. We will build a very simple background model that will allow us to detect changes in the scene that the camera is capturing. We are capturing the images and converting them into matrices of numbers that can be operated on mathematically. This is different from capturing images and saving them as files.\n",
    "### Required Resources\n",
    "<p>\n",
    "* 1 PC with Internet access\n",
    "* Raspberry Pi version 2 or higher\n",
    "* Python libraries: numpy, cv2, picamera, time, pyplot, numpy\n",
    "* Picamera V2 module\n",
    "\n",
    "The Raspberry Pi camera module was connected and installed in a previous lab. This lab assumes that the installation and testing of the camera module have previously been completed."
   ]
  },
  {
   "cell_type": "markdown",
   "metadata": {},
   "source": [
    "## Part 1: Learn About Computer Imaging"
   ]
  },
  {
   "cell_type": "markdown",
   "metadata": {},
   "source": [
    "Let's have a look at the kind of data we are going to work with: digital images and videos.\n",
    "\n",
    "A digital image is a matrix composed of pixels. Each pixel corresponds to a position inside of the image and contains information regarding the color of the image at that location. If the image is grayscale, each pixel contains a number that identifies the `level of gray` in that position. If we are looking at a color image, then each pixel contains a vector that encodes a color according to a certain color map. For instance, if we are using the RGB color map, each color is encoded by a group of three numbers. The numbers reprent the quantity of red, blue and green that makes up the color of the pixel. \n",
    "\n",
    "So, if we want to compare what we see versus what the computer sees, it would be something like this:\n",
    "\n",
    "![title](Images/lisa_n.png)\n",
    "\n",
    "Each pixel in an image that is using the RGB color space has three RGB values that range from 0 to 255 that define the color of that pixel. An image that is 256 pixels high and 256 pixles wide has 65,536 pixels. Each pixel has 24 bits of color information associated with it in an RGB color space. (The 24 bits consist of eight bits each for the red, green, and blue color channels.) The figure shows a numeric array that represents a 16x16 pixel area of the larger image. The values in the numeric array for each pixel represent the red value in that pixel. The pixels also have green and blue values that are not shown for clarity. The combination of the red, green, and blue values can depict 16,777,216 color variations (256 to the third power).\n",
    "\n",
    "Computer vision is a demanding computer task, and it requires a lot of work in terms of pre-processing to transform a raw digital image into a form that is understandable by a computer as data.\n",
    "\n",
    "The resolution of an image (or a video) is the number of pixels contained in the image (or each frame), and it is usually expressed by the number of rows and the number of colums (e.g, 256x256 means that an image has 256 rows and 256 columns of pixels).\n",
    "\n",
    "A digital video is a sequence of frames, and each frame is a digital image. Digital videos can have different frame rates that are expressed as the number of images per second. Video standards vary, but a full-motion digital video is usually around 30 frames per second. Other frame rates can be used depending on the purpose of the video and the amount of bandwidth and storage that are available."
   ]
  },
  {
   "cell_type": "markdown",
   "metadata": {},
   "source": [
    "## Part 2: Capture Images"
   ]
  },
  {
   "cell_type": "markdown",
   "metadata": {},
   "source": [
    "In this part of the lab, we will use Python to automatically capture a series of images.\n",
    "\n",
    "##### Step 1: Setup the environment.\n",
    "Import all the libraries we need to perform the task."
   ]
  },
  {
   "cell_type": "code",
   "execution_count": null,
   "metadata": {
    "collapsed": true
   },
   "outputs": [],
   "source": [
    "#code cell 1\n",
    "# import the necessary packages\n",
    "import cv2\n",
    "from IPython.display import clear_output\n",
    "from picamera.array import PiRGBArray\n",
    "from picamera import PiCamera\n",
    "import time\n",
    "from matplotlib import pyplot as plt\n",
    "import numpy as np\n",
    "%matplotlib inline"
   ]
  },
  {
   "cell_type": "markdown",
   "metadata": {},
   "source": [
    "OpenCV (Open Source Computer Vision) is a library of programming functions mainly aimed at real-time computer vision. The cv2 package that we imported in the previous cell is the OpenCV package for Python. \n",
    "\n",
    "##### Step 2: Test the camera.\n",
    "First, we will test the camera to see if is working properly. \n",
    "\n",
    "###### a) Capture a single image.\n",
    "Position the camera so that it will capture the image that you want and run the following code. The output of the code will be the captured image."
   ]
  },
  {
   "cell_type": "code",
   "execution_count": null,
   "metadata": {
    "collapsed": true
   },
   "outputs": [],
   "source": [
    "#code cell 2\n",
    "# sanity check, to be sure that no other processes are using the camera\n",
    "try:\n",
    "    camera.close()\n",
    "    del camera\n",
    "except:\n",
    "    print('ok')\n",
    "    \n",
    "#initialize the camera by creating a camera object from the PiCamera() method.\n",
    "camera = PiCamera()\n",
    "# set the resolution of the picture to be taken\n",
    "camera.resolution = (256, 256)\n",
    "# set the frame rate\n",
    "camera.framerate = 1\n",
    "# create an object for the captured image\n",
    "rawCapture = PiRGBArray(camera)\n",
    " \n",
    "# allow the camera to warmup\n",
    "time.sleep(0.1)\n",
    "\n",
    "# Capture a frame from the camera by using the capture() method of the camera object.\n",
    "# Create an array from the capture and display the image array. \n",
    "# The plt.show() method is used as if the image were a graph.\n",
    "try:\n",
    "    camera.capture(rawCapture, format=\"rgb\")\n",
    "    image = rawCapture.array\n",
    "    # Turn off the axis\n",
    "    plt.axis('off')\n",
    "    # Title of the picture\n",
    "    plt.title(\"Hello world\")\n",
    "    # show the frame\n",
    "    plt.imshow(image)\n",
    "    plt.show()\n",
    "    # release the camera\n",
    "    camera.close()\n",
    "except:\n",
    "    # Release the Video Device\n",
    "    camera.close()\n",
    "    print('Something went wrong')"
   ]
  },
  {
   "cell_type": "markdown",
   "metadata": {},
   "source": [
    "###### b) Capture a sequence of images.\n",
    "In order to capture image sequences, we will create an infinite loop and capture images periodically as the loop repeats. Add or move items whithin the frame. You will see the video update after a short delay. This is like a very low frame rate video. \n",
    "\n",
    "In order to go on to code cell 4, stop code cell 3 by clicking the button with the square icon to the left of the code cell."
   ]
  },
  {
   "cell_type": "code",
   "execution_count": null,
   "metadata": {
    "collapsed": true
   },
   "outputs": [],
   "source": [
    "#code cell 3\n",
    "# release the camera resource in case another process is using it\n",
    "try:\n",
    "    camera.close()\n",
    "except:\n",
    "    print('ok')\n",
    "\n",
    "# initialize the camera and create a reference to the raw camera capture\n",
    "camera = PiCamera()\n",
    "camera.resolution = (256, 256)\n",
    "camera.framerate = 1\n",
    "rawCapture = PiRGBArray(camera)\n",
    " \n",
    "# allow the camera to warmup\n",
    "time.sleep(0.1)\n",
    "\n",
    "try:\n",
    "    # capture frames from the camera\n",
    "    while True:\n",
    "        # grab an image from the camera\n",
    "        camera.capture(rawCapture, format=\"rgb\")\n",
    "        image = rawCapture.array\n",
    "        # Turn off the axis\n",
    "        plt.axis('off')\n",
    "        # Title of the window\n",
    "        plt.title(\"Video Frame\")\n",
    "        plt.axis('off')\n",
    "\n",
    "        # show the frame\n",
    "        plt.imshow(image)\n",
    "        plt.show()\n",
    "        # Display the frame until new frame is available\n",
    "        clear_output(wait=True)\n",
    "        # clear the stream in preparation for the next frame\n",
    "        rawCapture.truncate(0)\n",
    "\n",
    "except:\n",
    "    # release the video device\n",
    "    camera.close()\n",
    "    # message to be displayed after releasing the device\n",
    "    print(\"Released Video Resource\")\n",
    "    # show the last frame\n",
    "    plt.imshow(image)\n",
    "    plt.axis('off')\n",
    "    plt.show()"
   ]
  },
  {
   "cell_type": "markdown",
   "metadata": {},
   "source": [
    "## Part 3: Change Detection"
   ]
  },
  {
   "cell_type": "markdown",
   "metadata": {},
   "source": [
    "Now we are ready to build a model of the background of the scene. The assumptions we are making are:\n",
    "\n",
    "- The camera is still.\n",
    "- The background is static.\n",
    "- The background is very simple and monochromatic, if possible.\n",
    "- The light conditions are consistent.\n",
    "\n",
    "If these assumptions are true, our simple model will be more than enough to perform change detection.\n",
    "\n",
    "In theory we could take one frame and use that as the model. In order to make the model slightly more resistant to noise, we are going to collect a few frames and use their average as the model.\n",
    "\n",
    "##### Step 3: Modelling the background\n",
    "Write the auxiliary functions to build the background model."
   ]
  },
  {
   "cell_type": "markdown",
   "metadata": {},
   "source": [
    "###### a) Define a countdown function\n",
    "This function gives warning to the operator to clear the scene so a plain background is captured."
   ]
  },
  {
   "cell_type": "code",
   "execution_count": null,
   "metadata": {
    "collapsed": true
   },
   "outputs": [],
   "source": [
    "#code cell 4\n",
    "def countdown(count):\n",
    "    print('seconds to background acquisition:')\n",
    "    while (count >= 0):\n",
    "        print(count)\n",
    "        count -= 1\n",
    "        time.sleep(1)"
   ]
  },
  {
   "cell_type": "markdown",
   "metadata": {},
   "source": [
    "###### b) Create the background reference image.\n",
    "Define a function that collects a number of frames of the empty scene and returns their average."
   ]
  },
  {
   "cell_type": "code",
   "execution_count": null,
   "metadata": {
    "collapsed": true
   },
   "outputs": [],
   "source": [
    "# code cell 5\n",
    "# this is the function we are going to call to collect and average the frames\n",
    "# camera is the instance of the camera we are using\n",
    "# secs2countdown is the amount of time we give to the operator to clear the scene\n",
    "# n_frames is the number of frames we are going to average to build the background model\n",
    "\n",
    "def get_background(camera, rawCapture, secs2countdown=5, n_frames=10):\n",
    "    countdown(secs2countdown)\n",
    "    k=0\n",
    "    # capture n_frames. These frames will be averaged to create the background model.\n",
    "    while(k<=n_frames):\n",
    "        # capture a frame of the empty scene\n",
    "        camera.capture(rawCapture, format=\"bgr\")\n",
    "        # for computational reasons, we are going to work in grayscale (only one channel). \n",
    "        # This is an opencv function to convert color images to grayscale\n",
    "        frame = cv2.cvtColor(rawCapture.array, cv2.COLOR_BGR2GRAY)\n",
    "        if(k==0):\n",
    "            background_frame=np.array(frame).astype(float)\n",
    "        else:\n",
    "            background_frame+=np.array(frame).astype(float)\n",
    "        # clear the stream in preparation for the next frame\n",
    "        rawCapture.truncate(0)\n",
    "        k+=1\n",
    "    print('Background acquired, thanks!')\n",
    "    # return the average of the acquired frames\n",
    "    return background_frame/float(k)"
   ]
  },
  {
   "cell_type": "markdown",
   "metadata": {},
   "source": [
    "###### c) Create and store the background model.\n",
    "Initialize the camera and run the function that will capture and average the background images. This will take some time."
   ]
  },
  {
   "cell_type": "code",
   "execution_count": null,
   "metadata": {
    "collapsed": true
   },
   "outputs": [],
   "source": [
    "#code cell 6\n",
    "# ensure that the camera resource is available\n",
    "try:\n",
    "    camera.close()\n",
    "    del camera\n",
    "except:\n",
    "    print('ok')\n",
    "\n",
    "# initialize the camera settings   \n",
    "camera = PiCamera()\n",
    "camera.resolution = (256, 256)\n",
    "camera.framerate = 1\n",
    "rawCapture = PiRGBArray(camera)\n",
    "\n",
    "# store the background image by creating an object to hold the output of the get_background() function\n",
    "bg = get_background(camera, rawCapture)"
   ]
  },
  {
   "cell_type": "markdown",
   "metadata": {},
   "source": [
    "###### d) View the background image.\n",
    "Display the image that was captured. It is displayed as a gray scale image, which is what will be used for the change detection algorithm."
   ]
  },
  {
   "cell_type": "code",
   "execution_count": null,
   "metadata": {
    "collapsed": true
   },
   "outputs": [],
   "source": [
    "#code cell 7\n",
    "plt.imshow(bg, cmap='gray')\n",
    "plt.title('Background')\n",
    "plt.axis('off')"
   ]
  },
  {
   "cell_type": "markdown",
   "metadata": {},
   "source": [
    "#### Step 4: Detect moving objects."
   ]
  },
  {
   "cell_type": "markdown",
   "metadata": {},
   "source": [
    "In order to detect a change in the captured image, the stored background image will be subtracted from the current frame. Because of noise, the difference between the stored background and the current background will not always be exactly zero if no change has occurred. In order to avoid falsely detecting change, we will have to set a threshold that will let us decide whether the difference between the two images is small enough to be considered zero or if we think that something is actually moving in the scene.\n",
    "\n",
    "Execute the following code. The code will loop indefinately until it is stopped."
   ]
  },
  {
   "cell_type": "code",
   "execution_count": null,
   "metadata": {
    "collapsed": true
   },
   "outputs": [],
   "source": [
    "# code cell 8\n",
    "try:\n",
    "    camera.close()\n",
    "    del camera\n",
    "except:\n",
    "    print('ok')\n",
    "    \n",
    "camera = PiCamera()\n",
    "camera.resolution = (256, 256)\n",
    "camera.framerate = 1\n",
    "rawCapture = PiRGBArray(camera)\n",
    "# manipulate this value to see how it affects the capture\n",
    "threshold = 40\n",
    "try:\n",
    "    # capture frames from the camera\n",
    "    while True:\n",
    "        # capture an image from the camera\n",
    "        camera.capture(rawCapture, format=\"bgr\")\n",
    "        image = cv2.cvtColor(rawCapture.array, cv2.COLOR_BGR2GRAY)\n",
    "        # Create and size the figure object\n",
    "        fig = plt.figure(figsize=(16, 20))\n",
    "        \n",
    "        #create and format the background image\n",
    "        plt.subplot(131)\n",
    "        plt.title('Background Reference')\n",
    "        plt.imshow(bg, cmap='gray')\n",
    "        plt.axis('off')\n",
    "        \n",
    "        #create and format the background image\n",
    "        plt.subplot(132)\n",
    "        plt.title('Current Image')\n",
    "        plt.imshow(image, cmap='gray')\n",
    "        plt.axis('off')\n",
    "        \n",
    "        #create the change detection image\n",
    "        plt.subplot(133)\n",
    "        plt.title('Change Detection')\n",
    "        #this line subtracts the background image \"bg\" from the current image\n",
    "        plt.imshow((np.absolute(bg-image)>threshold), cmap='gray')\n",
    "        plt.axis('off')\n",
    "        plt.show()\n",
    "                \n",
    "        # Display the frame until the new frame is available\n",
    "        clear_output(wait=True)\n",
    "        # clear the stream in preparation for the next frame\n",
    "        rawCapture.truncate(0)\n",
    "\n",
    "except:\n",
    "    # Release the Video Device\n",
    "    camera.close()\n",
    "    # Message to be displayed after releasing the device\n",
    "    print(\"Released Video Resource\")\n",
    "    # show the last frame\n",
    "    fig = plt.figure(figsize=(16, 20))\n",
    "        \n",
    "    #the background reference image\n",
    "    plt.subplot(131)\n",
    "    plt.title('Background Reference')\n",
    "    plt.imshow(bg, cmap='gray')\n",
    "    plt.axis('off')\n",
    "        \n",
    "    #the current image\n",
    "    plt.subplot(132)\n",
    "    plt.title('Current Image')\n",
    "    plt.imshow(image, cmap='gray')\n",
    "    plt.axis('off')\n",
    "        \n",
    "    #the change detected image\n",
    "    plt.subplot(133)\n",
    "    plt.title('Change Detection')\n",
    "    plt.imshow((np.absolute(bg-image)>threshold), cmap='gray')\n",
    "    plt.axis('off')\n",
    "    plt.show()"
   ]
  },
  {
   "cell_type": "markdown",
   "metadata": {},
   "source": [
    "## Part 4: Explanation and Application\n",
    "\n",
    "#### Explanation\n",
    "The line of code that is at the heart of this process is:\n",
    "\n",
    "`plt.imshow((np.absolute(bg-image)>threshold), cmap='gray')`\n",
    "\n",
    "Let’s take this code apart to see what is happening. \n",
    "\n",
    "First, we know that we have imported `matplotlib.pyplot` as `plt`. We can see from the use of the `matplotlib.pyplot` method `plt.imshow()` that this line of code will display whatever is defined by its arguments. The second argument in the method, `cmap ='gray'`, indicates that `matplotlib.pyplot` will display the image in the grayscale color space. So, what is it going to display? \n",
    "\n",
    "The image to be displayed is specified by the first argument of the `pyplot` method. This argument is expressed as an inequality, which evaluates to either `True` or `False`. We can see three variables that are present within this statement. They are `bg`, `image`, and `threshold`. `bg` is the background image we created by mathematically averaging pixel matrices of 10 image captures. `image` is the matrix of pixel values that makes up the current image in the image sequence that is being captured in the `while` loop. Because the background image and current images are both represented as matrices of numeric gray scale values, mathematical operations can be performed on them. In this case, the `image` matrix is subtracted from the background (`bg`) image matrix. What this means is that every pixel grayscale value (range = 0 to 255) in the current image is subtracted from the value in the background image for the corresponding pixel. \n",
    "\n",
    "Because we are looking only for change as expressed by the amount of difference between each pixel, the `numpy` absolute value function, `np.absolute()`, is used to find the amount of change. This accomodates any values that are negative. This value is then compared to the `threshold` variable. If the value for the pixel is greater than the threshold value, the argument for the function evaluates as True. This means the pixel is significantly different from the background reference image. This results in the pixel being displayed as pure white in the Change Detection image. All pixels that have been determined to be unchanged (less than the threshold value) are displayed as black. In other words, `pyplot` is displaying an array of True or False values as a black and white image.\n",
    "\n",
    "This implies that the process can be calibrated by manipulating the `threshold` value. For example, if a new image is captured that is the same as the background reference image, the entire image should display as black because no change would be detected. Any white pixels displayed in the Change Detection image can be considered as “noise” in this situation. If there is a considerable amount of white in the Change Detection image, the threshold value could be increased until less noise is detected as change. If the threshold value is adjusted correctly, the Change Detection image should be mostly solid black when the background and current images are essentially the same.\n",
    "\n",
    "Go into the code in the cell above and experiment with changing the value of the `threshold` variable. Run the cell and allow it to capture a few images. What happens to the Change Detection image if the value is too high? Too low?"
   ]
  },
  {
   "cell_type": "markdown",
   "metadata": {},
   "source": []
  },
  {
   "cell_type": "markdown",
   "metadata": {},
   "source": [
    "*Type your answers here*"
   ]
  },
  {
   "cell_type": "markdown",
   "metadata": {},
   "source": [
    "#### Application\n",
    "Digital video cameras have become inexpensive, plentiful, and practical to use. Video cameras that are connected to networks can be seen in many cities and businesses. Some of these cameras are connected to the Internet. The streams of video data that they produce are processed and analyzed at the network edge or in the Cloud. What is this video data used for?\n",
    "\n",
    "An obvious application is for security and surveillance. Basic change detection algorithms like the one demonstrated in this lab could be used to detect the actions of people or the movement of things. Change detection can be used to detect when parking places become vacant or when store shelves are empty. In traffic management, a change detection process can be used to compare the current conditions on a highway to the expected conditions for that time and day. A differrence may indicate a traffic jam in or near the area that the camera is monitoring. This could be used to alert public safety personnel of the need to investigate road conditions.\n",
    "\n",
    "Can you think of any other applications for analysis of video data and change detection?"
   ]
  },
  {
   "cell_type": "markdown",
   "metadata": {},
   "source": []
  },
  {
   "cell_type": "markdown",
   "metadata": {},
   "source": [
    "*Type your answers here*"
   ]
  },
  {
   "cell_type": "markdown",
   "metadata": {},
   "source": [
    "<font size='0.5'>&copy; 2017 Cisco and/or its affiliates. All rights reserved. This document is Cisco Public.<font>"
   ]
  }
 ],
 "metadata": {
  "anaconda-cloud": {},
  "kernelspec": {
   "display_name": "Python 3",
   "language": "python",
   "name": "python3"
  },
  "language_info": {
   "codemirror_mode": {
    "name": "ipython",
    "version": 3
   },
   "file_extension": ".py",
   "mimetype": "text/x-python",
   "name": "python",
   "nbconvert_exporter": "python",
   "pygments_lexer": "ipython3",
   "version": "3.6.0"
  }
 },
 "nbformat": 4,
 "nbformat_minor": 1
}
