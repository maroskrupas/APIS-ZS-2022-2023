{
 "cells": [
  {
   "cell_type": "markdown",
   "metadata": {},
   "source": [
    "![Title](Images/cisco.png)"
   ]
  },
  {
   "cell_type": "markdown",
   "metadata": {},
   "source": [
    "# Lab - Raspberry Pi Camera Setup\n",
    "\n",
    "### Objectives\n",
    "</br>\n",
    " <li> **Part 1: Setup the Raspberry Pi camera.**</li>\n",
    " <li> **Part 2: Test the Raspberry Pi camera.**</li>\n",
    " <li> **Part 3: Capture images with Python.**</li>\n",
    "\n",
    "### Scenario/Background\n",
    "Raspberry Pi versions 2 and higher come with a dedicated camera port. The Raspberry Pi Foundation offers an \"official\" camera. The camera has an 8-megapixel sensor and is supported by a versatile software library for use with Python applications. In this lab, you will physically install the camera module and software and use Python to control the camera to capture and display images. \n",
    "\n",
    "### Required Resources\n",
    " * 1 PC with Internet access\n",
    " * Raspberry Pi version 2 or higher\n",
    " * Camera V2 module\n",
    " * Python libraries: matplotlib.pyplot, IPython.display, picamera, time"
   ]
  },
  {
   "cell_type": "markdown",
   "metadata": {},
   "source": [
    "## Part 1: Setup the Raspberry Pi Camera\n",
    "\n",
    "#### Step 1: Connect the RPi Camera module\n",
    "\n",
    "Connect the Rapsberry Pi camera module to the Raspberry Pi as shown in the figure below. The camera port location depends on the version of the RaPi you are using, as shown in the figure.\n",
    "\n",
    "<img src=\"Images/connect-camera.jpg\" alt=\"RPi Camera module\" width=\"600\">\n",
    "\n",
    "###### a) Locate the camera port.\n",
    "The port is labelled \"camera.\" \n",
    "###### b) Open the port.\n",
    "Lift the black latch that is part of the camera port connector. The latch lifts from each end. \n",
    "###### c) Insert the ribbon cable in the camera port.\n",
    "The ribbon cable is attached by carefully inserting the cable with the metal contacts facing the direction of the “Camera” label on the Raspberry Pi board. Gently insert the cable as far as it will go into the port. \n",
    "###### d) Secure the cable in place.\n",
    "Push the latch down into the port to secure the cable in place."
   ]
  },
  {
   "cell_type": "markdown",
   "metadata": {},
   "source": [
    "## Part 2: Test the Camera\n",
    "In this part of the lab, you will test the camera hardware using the `raspistill` shell utility. This will create an external graphics file that we will display in the notebook."
   ]
  },
  {
   "cell_type": "markdown",
   "metadata": {},
   "source": [
    "#### Step 1: Load the required libraries.\n",
    "Import the necessary iPython modules."
   ]
  },
  {
   "cell_type": "code",
   "execution_count": null,
   "metadata": {
    "collapsed": true
   },
   "outputs": [],
   "source": [
    "#code cell 1\n",
    "# import the display module to enable viewing external graphics in the notebook\n",
    "from IPython.display import Image\n",
    "import time"
   ]
  },
  {
   "cell_type": "markdown",
   "metadata": {},
   "source": [
    "#### Step 2: Capture an image using the Camera module\n",
    "###### a) Grab an image, and display it.\n",
    "We will use the Raspberry Pi command line to capture an image. The `rapistill` command `-o` parameter outputs the image to the filename that follows it. We then view the file with iPython Image function. This code will take a little while to run."
   ]
  },
  {
   "cell_type": "code",
   "execution_count": null,
   "metadata": {},
   "outputs": [],
   "source": [
    "#code cell 2\n",
    "!raspistill -t 1 -o test.jpg\n",
    "Image(filename = \"test.jpg\")"
   ]
  },
  {
   "cell_type": "markdown",
   "metadata": {},
   "source": [
    "###### b) Experiment with the camera.\n",
    "The `raspistill` command accepts a number of parameters.\n",
    "<table class=\"tg\">\n",
    "  <tr>\n",
    "    <th class=\"tg-yw4l\">Parameter</th>\n",
    "    <th class=\"tg-yw4l\">Usage</th>\n",
    "  </tr>\n",
    "  <tr>\n",
    "    <td class=\"tg-yw4l\">-t<br></td>\n",
    "    <td class=\"tg-yw4l\">Time (in ms) before takes picture and shuts down (if not specified, set to 5s).<br></td>\n",
    "  </tr>\n",
    "  <tr>\n",
    "    <td class=\"tg-yw4l\">-w<br></td>\n",
    "    <td class=\"tg-yw4l\">Change image width in pixels.<br></td>\n",
    "  </tr>\n",
    "  <tr>\n",
    "    <td class=\"tg-yw4l\">-h<br></td>\n",
    "    <td class=\"tg-yw4l\">Change image height in pixels.<br></td>\n",
    "  </tr>\n",
    "  <tr>\n",
    "    <td class=\"tg-yw4l\">-hf<br></td>\n",
    "    <td class=\"tg-yw4l\">Flip image horizontally. Use if the image is backwards.<br></td>\n",
    "  </tr>\n",
    "  <tr>\n",
    "    <td class=\"tg-yw4l\">-vf<br></td>\n",
    "    <td class=\"tg-yw4l\">Flip image vertically. Use if the image is upside down.<br></td>\n",
    "  </tr>\n",
    "  <tr>\n",
    "    <td class=\"tg-yw4l\">-o<br></td>\n",
    "    <td class=\"tg-yw4l\">Output to specified filename.<br></td>\n",
    "  </tr>\n",
    "  <tr>\n",
    "    <td class=\"tg-yw4l\">-ifx<br></td>\n",
    "    <td class=\"tg-yw4l\">Apply an image effect. Some available effects are negative, solarise, sketch, oilpaint.</td>\n",
    "  </tr>\n",
    "</table>\n",
    "\n",
    "The example below will capture a 400 x 300 pixel image with a solarise effect to the text.jpg file.\n",
    "\n",
    "`!raspistill -w 400 -h 300 -ifx solarise -o test.jpg`\n",
    "\n",
    "There are many other settings available. They can be seen by opening a terminal and typing `raspistill` with no parameters. Try some different parameters to see the effects."
   ]
  },
  {
   "cell_type": "code",
   "execution_count": null,
   "metadata": {
    "collapsed": true
   },
   "outputs": [],
   "source": [
    "# code cell 3\n",
    "# use the raspistill shell command with \"!\" to control the camera.\n"
   ]
  },
  {
   "cell_type": "markdown",
   "metadata": {},
   "source": [
    "## Part 3: Capture images with Python\n",
    "In this part of the lab, you will use the `picamera` Python library to capture images."
   ]
  },
  {
   "cell_type": "markdown",
   "metadata": {},
   "source": [
    "#### Step 1: Load Python modules.\n",
    "###### a) Load the modules required for displaying camera images.\n",
    "Run the code below to import the modules and settings that will enable visualization of images from the camera directly in the notebook."
   ]
  },
  {
   "cell_type": "code",
   "execution_count": null,
   "metadata": {
    "collapsed": true
   },
   "outputs": [],
   "source": [
    "#code cell 4\n",
    "#import the Raspberry Pi camera modules.\n",
    "from picamera.array import PiRGBArray\n",
    "from picamera import PiCamera\n",
    "\n",
    "# Configure the environment to display matplotlib images in this notebook\n",
    "%matplotlib inline\n",
    "#import the matplotlib pyplot module. Refer to it as plt.\n",
    "import matplotlib.pyplot as plt\n",
    "#import the Ipython display module clear_output methods\n",
    "from IPython.display import clear_output"
   ]
  },
  {
   "cell_type": "markdown",
   "metadata": {},
   "source": [
    "###### Step 2: Capture an image.\n",
    "The code below captures an image and displays it. First, any existing `camera` is closed to ensure we are starting from the beginning with the camera initialization. Then, the camera image properties are set on the `camera` object. Then, the image is captured with the `camera.capture()` method. Finally, the graphic is displayed with `matplotlib.pyplot`. "
   ]
  },
  {
   "cell_type": "code",
   "execution_count": null,
   "metadata": {},
   "outputs": [],
   "source": [
    "#code cell 5\n",
    "# sanity check, to be sure that no other processes are using the camera\n",
    "try:\n",
    "    camera.close()\n",
    "    del camera\n",
    "except:\n",
    "    print('ok')\n",
    "    \n",
    "#initialize the camera by creating a camera object from the PiCamera() method.\n",
    "camera = PiCamera()\n",
    "\n",
    "# set the resolution of the picture to be taken\n",
    "camera.resolution = (256, 256)\n",
    "# set the frame rate\n",
    "camera.framerate = 1\n",
    "# create an object for the captured image\n",
    "rawCapture = PiRGBArray(camera)\n",
    " \n",
    "# allow the camera to warmup\n",
    "time.sleep(0.1)\n",
    "\n",
    "try:\n",
    "    # Capture a frame from the camera by using the capture() method of the camera object.\n",
    "    camera.capture(rawCapture, format=\"rgb\")\n",
    "    \n",
    "    # Create an array from the captured image\n",
    "    image = rawCapture.array\n",
    "    \n",
    "    # The plt.show() method is used as if the image were a graph.\n",
    "    # Turn off the axis\n",
    "    plt.axis('off')\n",
    "    # Title of the picture\n",
    "    plt.title(\"Hello world\")\n",
    "    # show the frame\n",
    "    plt.imshow(image)\n",
    "    plt.show()\n",
    "    # release the camera\n",
    "    camera.close()\n",
    "except:\n",
    "    # Release the Video Device\n",
    "    camera.close()\n",
    "    print('Something went wrong')"
   ]
  },
  {
   "cell_type": "markdown",
   "metadata": {},
   "source": [
    "If all went well, the captured image should appear as the output of the code cell above. Now your camera is ready to use in the labs that follow."
   ]
  },
  {
   "cell_type": "markdown",
   "metadata": {
    "collapsed": true
   },
   "source": [
    "<font size='0.5'>&copy; 2017 Cisco and/or its affiliates. All rights reserved. This document is Cisco Public.<font>"
   ]
  }
 ],
 "metadata": {
  "kernelspec": {
   "display_name": "Python 3",
   "language": "python",
   "name": "python3"
  },
  "language_info": {
   "codemirror_mode": {
    "name": "ipython",
    "version": 3
   },
   "file_extension": ".py",
   "mimetype": "text/x-python",
   "name": "python",
   "nbconvert_exporter": "python",
   "pygments_lexer": "ipython3",
   "version": "3.5.3"
  }
 },
 "nbformat": 4,
 "nbformat_minor": 1
}
